{
  "nbformat": 4,
  "nbformat_minor": 0,
  "metadata": {
    "kernelspec": {
      "display_name": "Python 3",
      "language": "python",
      "name": "python3"
    },
    "language_info": {
      "codemirror_mode": {
        "name": "ipython",
        "version": 3
      },
      "file_extension": ".py",
      "mimetype": "text/x-python",
      "name": "python",
      "nbconvert_exporter": "python",
      "pygments_lexer": "ipython3",
      "version": "3.8.5"
    },
    "colab": {
      "name": "2_1_Un_primer_vistazo_a_una_Red_Neuronal.ipynb",
      "provenance": [],
      "include_colab_link": true
    },
    "accelerator": "GPU",
    "gpuClass": "standard"
  },
  "cells": [
    {
      "cell_type": "markdown",
      "metadata": {
        "id": "view-in-github",
        "colab_type": "text"
      },
      "source": [
        "<a href=\"https://colab.research.google.com/github/Paloma-Moya-Tudela/deeplearning/blob/main/Ejercicio%20Regularizadores%20Completo.ipynb\" target=\"_parent\"><img src=\"https://colab.research.google.com/assets/colab-badge.svg\" alt=\"Open In Colab\"/></a>"
      ]
    },
    {
      "cell_type": "markdown",
      "metadata": {
        "id": "Ejg7Msp7rbkk"
      },
      "source": [
        "# Ejercicio con regularizadores"
      ]
    },
    {
      "cell_type": "code",
      "source": [
        "%tensorflow_version 2.x\n",
        "import tensorflow as tf\n",
        "from tensorflow import keras\n",
        "print(tf.keras.__version__)\n",
        "print(\"GPU Available:\", tf.config.list_physical_devices('GPU'))\n",
        "print(tf.__version__)\n",
        "from keras.datasets import mnist\n",
        "from keras import models\n",
        "from keras import layers\n",
        "import numpy as np\n",
        "import matplotlib.pyplot as plt\n",
        "from keras import regularizers"
      ],
      "metadata": {
        "id": "BSivef1i532C",
        "colab": {
          "base_uri": "https://localhost:8080/"
        },
        "outputId": "e5b45fc6-8cab-413a-b758-f80c2285ed19"
      },
      "execution_count": 112,
      "outputs": [
        {
          "output_type": "stream",
          "name": "stdout",
          "text": [
            "Colab only includes TensorFlow 2.x; %tensorflow_version has no effect.\n",
            "2.9.0\n",
            "GPU Available: [PhysicalDevice(name='/physical_device:GPU:0', device_type='GPU')]\n",
            "2.9.2\n"
          ]
        }
      ]
    },
    {
      "cell_type": "code",
      "source": [
        "(train_images, train_labels), (test_images, test_labels) = mnist.load_data() # Descarga los datos de MNIST"
      ],
      "metadata": {
        "id": "3t3R6gU9-wUy"
      },
      "execution_count": 113,
      "outputs": []
    },
    {
      "cell_type": "code",
      "source": [
        "# Prepara con reshape:\n",
        "train_images = train_images.reshape((60000, 28 * 28))\n",
        "test_images = test_images.reshape((10000, 28 * 28))\n",
        "# Y normaliza las imágenes tanto de entrenamiento como de test:\n",
        "train_images = train_images.astype('float32') / 255\n",
        "test_images = test_images.astype('float32') / 255"
      ],
      "metadata": {
        "id": "H6n5NeSz0U1d"
      },
      "execution_count": 114,
      "outputs": []
    },
    {
      "cell_type": "code",
      "source": [
        "# Crear un subconjunto de imágenes de entrenamiento que llamaré\n",
        "# validation_images, para hacer las validaciones, con las 10000 últimas imágenes \n",
        "# del set de datos de entrenamiento (train_images) (obviamente, lo mismo con las\n",
        "# etiquetas correspondientes -> validation_labels). Deja preparadas las 50K \n",
        "# primeras imágenes y etiquetas para entrenamiento (train_images y train_labels)\n",
        "validation_images = train_images[50000:]\n",
        "validation_labels = train_labels[50000:]"
      ],
      "metadata": {
        "id": "NKoZGyap0XAj"
      },
      "execution_count": 115,
      "outputs": []
    },
    {
      "cell_type": "code",
      "source": [
        "from __future__ import print_function\n",
        "def crea_modelo(regularizador):\n",
        "  # Define una función que recibe un número del 0 al 4 que creará:\n",
        "  # un modelo secuencial con una capa de entrada densa de 512 neuronas\n",
        "  # con activación relu y la capa de salida que le corresponda según el problema\n",
        "  model = models.Sequential()\n",
        "  # Ahora, en función del número del regularizador:\n",
        "  # Si es 0, no mete ningún regularizador\n",
        "  if regularizador == 0:\n",
        "    model.add(layers.Dense(512, activation='relu', input_shape=(28*28,)))\n",
        "  # Si es 1, mete un regularizador de tipo l1 y valor 0.001\n",
        "  elif regularizador == 1:\n",
        "    model.add(layers.Dense(512, kernel_regularizer=regularizers.l1(0.001),activation='relu', input_shape=(28*28,)))\n",
        "  # Si es 2, mete un regularizador de tipo l2 y valor 0.001\n",
        "  elif regularizador == 2:\n",
        "    model.add(layers.Dense(512, kernel_regularizer=regularizers.l2(0.001),activation='relu', input_shape=(28*28,)))\n",
        "  # Si es 3, mete un regularizador de tipo l1_l2 y valor 0.001 para ambos\n",
        "  elif regularizador == 3:\n",
        "    model.add(layers.Dense(512, kernel_regularizer=regularizers.l1_l2(l1=0.001, l2=0.001),activation='relu', input_shape=(28*28,)))\n",
        "  # Si es 4, mete un Dropout del 50% después de la primera capa densa\n",
        "  elif regularizador == 4:\n",
        "    #layer_output *= np.random.randint(0, high=2, size=layer_output.shape)\n",
        "    #layer_output /= 0.5\n",
        "    model.add(layers.Dense(512, activation='relu', input_shape=(28*28,)))\n",
        "    model.add(layers.Dropout(0.5))\n",
        "  # Si es distinto que estos valores, escribe el error y retorna\n",
        "  else:\n",
        "    print('\\nEl valor introducido no es correcto\\n')\n",
        "    return\n",
        "  model.add(layers.Dense(10, activation='softmax'))\n",
        "  # Al final, esta función pinta el summary del modelo y retorna el modelo creado\n",
        "  model.summary()\n",
        "  return model"
      ],
      "metadata": {
        "id": "6JnVLVfsAfkh"
      },
      "execution_count": 116,
      "outputs": []
    },
    {
      "cell_type": "code",
      "source": [
        "def compila_modelo(modelo): \n",
        "  # Define una función que recibe un modelo, lo compila con un optimizador\n",
        "  # 'rmsprop', con una función de pérdida 'sparse_categorical_crossentropy' y\n",
        "  # una métrica de precisión. La función retorna el modelo\n",
        "  modelo.compile(optimizer='rmsprop',\n",
        "                loss='sparse_categorical_crossentropy',\n",
        "                metrics=['accuracy'])\n",
        "  return modelo"
      ],
      "metadata": {
        "id": "qKyJ8KOT0aFt"
      },
      "execution_count": 117,
      "outputs": []
    },
    {
      "cell_type": "code",
      "source": [
        "def entrena_modelo(modelo):\n",
        "  # Define una función que entrena el modelo que se le pasa por parámetro,\n",
        "  # con las imágenes y etiquetas de entrenamiento, con 30 iteraciones y 128\n",
        "  # de tamaño de minilote y con el validation_data creado más arriba.\n",
        "  # Esta función devuelve un history\n",
        "  history = modelo.fit(train_images, train_labels, epochs=30, batch_size=128, validation_data=(validation_images,validation_labels))\n",
        "  return history"
      ],
      "metadata": {
        "id": "_yQ7SpOt0cBp"
      },
      "execution_count": 118,
      "outputs": []
    },
    {
      "cell_type": "code",
      "source": [
        "def pinta_perdida_entrenamiento_validacion(historia):\n",
        "  history_dict = historia.history\n",
        "  acc = historia.history['accuracy']\n",
        "  val_acc = historia.history['val_accuracy']\n",
        "  loss = historia.history['loss']\n",
        "  val_loss = historia.history['val_loss']\n",
        "  epochs = range(1, len(acc) + 1)\n",
        "  # \"bo\" es para \"punto azun\"\n",
        "  plt.plot(epochs, loss, 'bo', label='Pérdida de Entrenamiento')\n",
        "  # \"b\" es para \"linea continua azul\"\n",
        "  plt.plot(epochs, val_loss, 'b', label='Pérdida de Validación')\n",
        "  plt.title('Pérdida de Entrenamiento y Validación')\n",
        "  plt.xlabel('Epochs')\n",
        "  plt.ylabel('Loss')\n",
        "  plt.legend()\n",
        "  plt.show()"
      ],
      "metadata": {
        "id": "bJrRNc4WwPN2"
      },
      "execution_count": 119,
      "outputs": []
    },
    {
      "cell_type": "code",
      "source": [
        "def pinta_precision_entrenamiento_validacion(historia):\n",
        "  history_dict = historia.history\n",
        "  acc = historia.history['accuracy']\n",
        "  val_acc = historia.history['val_accuracy']\n",
        "  loss = historia.history['loss']\n",
        "  val_loss = historia.history['val_loss']\n",
        "  plt.clf()   # Limpia la figura\n",
        "  acc_values = history_dict['accuracy']\n",
        "  val_acc_values = history_dict['val_accuracy']\n",
        "  epochs = range(1, len(acc) + 1)\n",
        "  plt.plot(epochs, acc, 'bo', label='Precisión de Entrenamiento')\n",
        "  plt.plot(epochs, val_acc, 'b', label='Precisión de Validación')\n",
        "  plt.title('Precisión de Entrenamiento y Valización')\n",
        "  plt.xlabel('Epochs')\n",
        "  plt.ylabel('Loss')\n",
        "  plt.legend()\n",
        "  plt.show()"
      ],
      "metadata": {
        "id": "Mafxp6D3wYQx"
      },
      "execution_count": 120,
      "outputs": []
    },
    {
      "cell_type": "markdown",
      "source": [
        "## Una vez definidas todas las funciones anteriores, ejecuta las siguientes llamadas a dichas funciones y deduce que está pasando y, para este contexto, que es lo que mejor está funcionando"
      ],
      "metadata": {
        "id": "6nnQYysYA3_T"
      }
    },
    {
      "cell_type": "markdown",
      "source": [
        "### Caso 0, sin regularizadores"
      ],
      "metadata": {
        "id": "OrGwDgaFBax4"
      }
    },
    {
      "cell_type": "code",
      "source": [
        "network0 = crea_modelo(0)"
      ],
      "metadata": {
        "id": "uXvhlXg79Zi9",
        "colab": {
          "base_uri": "https://localhost:8080/"
        },
        "outputId": "bed672ac-37b9-45f9-ab25-b71061ca8e6e"
      },
      "execution_count": 121,
      "outputs": [
        {
          "output_type": "stream",
          "name": "stdout",
          "text": [
            "Model: \"sequential_15\"\n",
            "_________________________________________________________________\n",
            " Layer (type)                Output Shape              Param #   \n",
            "=================================================================\n",
            " dense_12 (Dense)            (None, 512)               401920    \n",
            "                                                                 \n",
            " dense_13 (Dense)            (None, 10)                5130      \n",
            "                                                                 \n",
            "=================================================================\n",
            "Total params: 407,050\n",
            "Trainable params: 407,050\n",
            "Non-trainable params: 0\n",
            "_________________________________________________________________\n"
          ]
        }
      ]
    },
    {
      "cell_type": "code",
      "source": [
        "network0 = compila_modelo(network0)"
      ],
      "metadata": {
        "id": "Ff0HC3NR9ez8"
      },
      "execution_count": 122,
      "outputs": []
    },
    {
      "cell_type": "code",
      "source": [
        "historia0 = entrena_modelo(network0)"
      ],
      "metadata": {
        "id": "x9zQDOlw9g6V",
        "colab": {
          "base_uri": "https://localhost:8080/"
        },
        "outputId": "fbf1cba6-b435-4a2e-fac9-51c6c2240c6a"
      },
      "execution_count": 123,
      "outputs": [
        {
          "output_type": "stream",
          "name": "stdout",
          "text": [
            "Epoch 1/30\n",
            "469/469 [==============================] - 2s 4ms/step - loss: 0.2587 - accuracy: 0.9246 - val_loss: 0.1294 - val_accuracy: 0.9627\n",
            "Epoch 2/30\n",
            "469/469 [==============================] - 2s 4ms/step - loss: 0.1039 - accuracy: 0.9688 - val_loss: 0.0629 - val_accuracy: 0.9816\n",
            "Epoch 3/30\n",
            "469/469 [==============================] - 2s 4ms/step - loss: 0.0683 - accuracy: 0.9793 - val_loss: 0.0441 - val_accuracy: 0.9875\n",
            "Epoch 4/30\n",
            "469/469 [==============================] - 2s 4ms/step - loss: 0.0500 - accuracy: 0.9853 - val_loss: 0.0316 - val_accuracy: 0.9904\n",
            "Epoch 5/30\n",
            "469/469 [==============================] - 2s 4ms/step - loss: 0.0371 - accuracy: 0.9889 - val_loss: 0.0209 - val_accuracy: 0.9941\n",
            "Epoch 6/30\n",
            "469/469 [==============================] - 2s 3ms/step - loss: 0.0287 - accuracy: 0.9911 - val_loss: 0.0261 - val_accuracy: 0.9921\n",
            "Epoch 7/30\n",
            "469/469 [==============================] - 2s 3ms/step - loss: 0.0220 - accuracy: 0.9936 - val_loss: 0.0133 - val_accuracy: 0.9967\n",
            "Epoch 8/30\n",
            "469/469 [==============================] - 2s 3ms/step - loss: 0.0173 - accuracy: 0.9950 - val_loss: 0.0204 - val_accuracy: 0.9939\n",
            "Epoch 9/30\n",
            "469/469 [==============================] - 2s 3ms/step - loss: 0.0129 - accuracy: 0.9967 - val_loss: 0.0109 - val_accuracy: 0.9975\n",
            "Epoch 10/30\n",
            "469/469 [==============================] - 2s 3ms/step - loss: 0.0103 - accuracy: 0.9969 - val_loss: 0.0073 - val_accuracy: 0.9984\n",
            "Epoch 11/30\n",
            "469/469 [==============================] - 2s 4ms/step - loss: 0.0079 - accuracy: 0.9978 - val_loss: 0.0065 - val_accuracy: 0.9984\n",
            "Epoch 12/30\n",
            "469/469 [==============================] - 2s 4ms/step - loss: 0.0064 - accuracy: 0.9980 - val_loss: 0.0032 - val_accuracy: 0.9994\n",
            "Epoch 13/30\n",
            "469/469 [==============================] - 2s 3ms/step - loss: 0.0050 - accuracy: 0.9986 - val_loss: 0.0032 - val_accuracy: 0.9995\n",
            "Epoch 14/30\n",
            "469/469 [==============================] - 2s 3ms/step - loss: 0.0041 - accuracy: 0.9988 - val_loss: 0.0025 - val_accuracy: 0.9993\n",
            "Epoch 15/30\n",
            "469/469 [==============================] - 2s 4ms/step - loss: 0.0032 - accuracy: 0.9990 - val_loss: 0.0014 - val_accuracy: 0.9999\n",
            "Epoch 16/30\n",
            "469/469 [==============================] - 2s 4ms/step - loss: 0.0022 - accuracy: 0.9994 - val_loss: 0.0014 - val_accuracy: 0.9996\n",
            "Epoch 17/30\n",
            "469/469 [==============================] - 2s 3ms/step - loss: 0.0018 - accuracy: 0.9996 - val_loss: 0.0010 - val_accuracy: 0.9999\n",
            "Epoch 18/30\n",
            "469/469 [==============================] - 2s 4ms/step - loss: 0.0016 - accuracy: 0.9996 - val_loss: 0.0011 - val_accuracy: 0.9998\n",
            "Epoch 19/30\n",
            "469/469 [==============================] - 2s 4ms/step - loss: 0.0015 - accuracy: 0.9996 - val_loss: 9.3808e-04 - val_accuracy: 0.9998\n",
            "Epoch 20/30\n",
            "469/469 [==============================] - 1s 3ms/step - loss: 0.0011 - accuracy: 0.9997 - val_loss: 5.0277e-04 - val_accuracy: 0.9998\n",
            "Epoch 21/30\n",
            "469/469 [==============================] - 2s 4ms/step - loss: 8.7611e-04 - accuracy: 0.9998 - val_loss: 0.0010 - val_accuracy: 0.9997\n",
            "Epoch 22/30\n",
            "469/469 [==============================] - 2s 4ms/step - loss: 6.2105e-04 - accuracy: 0.9998 - val_loss: 1.6513e-04 - val_accuracy: 1.0000\n",
            "Epoch 23/30\n",
            "469/469 [==============================] - 2s 3ms/step - loss: 4.7220e-04 - accuracy: 0.9998 - val_loss: 1.8447e-04 - val_accuracy: 1.0000\n",
            "Epoch 24/30\n",
            "469/469 [==============================] - 2s 3ms/step - loss: 5.4532e-04 - accuracy: 0.9999 - val_loss: 5.2913e-05 - val_accuracy: 1.0000\n",
            "Epoch 25/30\n",
            "469/469 [==============================] - 2s 3ms/step - loss: 3.1208e-04 - accuracy: 0.9999 - val_loss: 7.7372e-04 - val_accuracy: 0.9996\n",
            "Epoch 26/30\n",
            "469/469 [==============================] - 2s 4ms/step - loss: 2.9897e-04 - accuracy: 0.9999 - val_loss: 2.5901e-04 - val_accuracy: 0.9999\n",
            "Epoch 27/30\n",
            "469/469 [==============================] - 2s 3ms/step - loss: 3.1040e-04 - accuracy: 0.9999 - val_loss: 7.4683e-04 - val_accuracy: 0.9998\n",
            "Epoch 28/30\n",
            "469/469 [==============================] - 2s 3ms/step - loss: 1.6493e-04 - accuracy: 0.9999 - val_loss: 2.0707e-04 - val_accuracy: 1.0000\n",
            "Epoch 29/30\n",
            "469/469 [==============================] - 2s 4ms/step - loss: 3.0614e-04 - accuracy: 0.9999 - val_loss: 2.5921e-05 - val_accuracy: 1.0000\n",
            "Epoch 30/30\n",
            "469/469 [==============================] - 2s 3ms/step - loss: 1.6268e-04 - accuracy: 0.9999 - val_loss: 1.5275e-05 - val_accuracy: 1.0000\n"
          ]
        }
      ]
    },
    {
      "cell_type": "code",
      "source": [
        "pinta_perdida_entrenamiento_validacion(historia0)"
      ],
      "metadata": {
        "id": "OvhDZvS8-0mG",
        "colab": {
          "base_uri": "https://localhost:8080/",
          "height": 295
        },
        "outputId": "9863fcad-d10e-4185-ef12-96f93f0a3d44"
      },
      "execution_count": 124,
      "outputs": [
        {
          "output_type": "display_data",
          "data": {
            "text/plain": [
              "<Figure size 432x288 with 1 Axes>"
            ],
            "image/png": "[encoded data removed]"
          },
          "metadata": {
            "needs_background": "light"
          }
        }
      ]
    },
    {
      "cell_type": "code",
      "source": [
        "pinta_precision_entrenamiento_validacion(historia0)"
      ],
      "metadata": {
        "id": "UuiL2CCH_fGN",
        "colab": {
          "base_uri": "https://localhost:8080/",
          "height": 295
        },
        "outputId": "e77f6d63-c124-4b08-e839-9c75890a358e"
      },
      "execution_count": 125,
      "outputs": [
        {
          "output_type": "display_data",
          "data": {
            "text/plain": [
              "<Figure size 432x288 with 1 Axes>"
            ],
            "image/png": "[encoded data removed]"
          },
          "metadata": {
            "needs_background": "light"
          }
        }
      ]
    },
    {
      "cell_type": "markdown",
      "source": [
        "Ambas gráficas anteriores nos ayudan a visualizar las conclusiones a las quer se ha llegado anteriormente."
      ],
      "metadata": {
        "id": "Hnh-gesXmPBx"
      }
    },
    {
      "cell_type": "markdown",
      "source": [
        "### Caso 1: Con regularizador l1"
      ],
      "metadata": {
        "id": "pw6iBGO5Bg8J"
      }
    },
    {
      "cell_type": "code",
      "source": [
        "network1 = crea_modelo(1)"
      ],
      "metadata": {
        "id": "D6JPtw5zCz-1",
        "colab": {
          "base_uri": "https://localhost:8080/"
        },
        "outputId": "f08c324f-9548-4117-eba2-98ed6c283ba1"
      },
      "execution_count": 126,
      "outputs": [
        {
          "output_type": "stream",
          "name": "stdout",
          "text": [
            "Model: \"sequential_16\"\n",
            "_________________________________________________________________\n",
            " Layer (type)                Output Shape              Param #   \n",
            "=================================================================\n",
            " dense_14 (Dense)            (None, 512)               401920    \n",
            "                                                                 \n",
            " dense_15 (Dense)            (None, 10)                5130      \n",
            "                                                                 \n",
            "=================================================================\n",
            "Total params: 407,050\n",
            "Trainable params: 407,050\n",
            "Non-trainable params: 0\n",
            "_________________________________________________________________\n"
          ]
        }
      ]
    },
    {
      "cell_type": "code",
      "source": [
        "network1 = compila_modelo(network1)"
      ],
      "metadata": {
        "id": "zL3Gp7wvFRq3"
      },
      "execution_count": 127,
      "outputs": []
    },
    {
      "cell_type": "code",
      "source": [
        "historia1 = entrena_modelo(network1)"
      ],
      "metadata": {
        "id": "G2FG1Z4xFW72",
        "colab": {
          "base_uri": "https://localhost:8080/"
        },
        "outputId": "9b11f339-6a60-45d7-d9e3-012823b1f80f"
      },
      "execution_count": 128,
      "outputs": [
        {
          "output_type": "stream",
          "name": "stdout",
          "text": [
            "Epoch 1/30\n",
            "469/469 [==============================] - 2s 4ms/step - loss: 1.9516 - accuracy: 0.8497 - val_loss: 0.9887 - val_accuracy: 0.8831\n",
            "Epoch 2/30\n",
            "469/469 [==============================] - 2s 4ms/step - loss: 0.9195 - accuracy: 0.8883 - val_loss: 0.8415 - val_accuracy: 0.8981\n",
            "Epoch 3/30\n",
            "469/469 [==============================] - 2s 4ms/step - loss: 0.8004 - accuracy: 0.9096 - val_loss: 0.9033 - val_accuracy: 0.8599\n",
            "Epoch 4/30\n",
            "469/469 [==============================] - 2s 4ms/step - loss: 0.7298 - accuracy: 0.9211 - val_loss: 0.7002 - val_accuracy: 0.9331\n",
            "Epoch 5/30\n",
            "469/469 [==============================] - 2s 3ms/step - loss: 0.6798 - accuracy: 0.9297 - val_loss: 0.6169 - val_accuracy: 0.9482\n",
            "Epoch 6/30\n",
            "469/469 [==============================] - 2s 4ms/step - loss: 0.6446 - accuracy: 0.9357 - val_loss: 0.6047 - val_accuracy: 0.9459\n",
            "Epoch 7/30\n",
            "469/469 [==============================] - 2s 3ms/step - loss: 0.6197 - accuracy: 0.9402 - val_loss: 0.5862 - val_accuracy: 0.9485\n",
            "Epoch 8/30\n",
            "469/469 [==============================] - 2s 4ms/step - loss: 0.5996 - accuracy: 0.9430 - val_loss: 0.5644 - val_accuracy: 0.9521\n",
            "Epoch 9/30\n",
            "469/469 [==============================] - 2s 4ms/step - loss: 0.5821 - accuracy: 0.9463 - val_loss: 0.5718 - val_accuracy: 0.9533\n",
            "Epoch 10/30\n",
            "469/469 [==============================] - 2s 4ms/step - loss: 0.5685 - accuracy: 0.9484 - val_loss: 0.5229 - val_accuracy: 0.9614\n",
            "Epoch 11/30\n",
            "469/469 [==============================] - 2s 4ms/step - loss: 0.5575 - accuracy: 0.9501 - val_loss: 0.5267 - val_accuracy: 0.9585\n",
            "Epoch 12/30\n",
            "469/469 [==============================] - 2s 4ms/step - loss: 0.5475 - accuracy: 0.9513 - val_loss: 0.5093 - val_accuracy: 0.9625\n",
            "Epoch 13/30\n",
            "469/469 [==============================] - 2s 3ms/step - loss: 0.5388 - accuracy: 0.9532 - val_loss: 0.5104 - val_accuracy: 0.9630\n",
            "Epoch 14/30\n",
            "469/469 [==============================] - 2s 5ms/step - loss: 0.5331 - accuracy: 0.9534 - val_loss: 0.5109 - val_accuracy: 0.9604\n",
            "Epoch 15/30\n",
            "469/469 [==============================] - 2s 4ms/step - loss: 0.5243 - accuracy: 0.9538 - val_loss: 0.5156 - val_accuracy: 0.9587\n",
            "Epoch 16/30\n",
            "469/469 [==============================] - 2s 4ms/step - loss: 0.5183 - accuracy: 0.9552 - val_loss: 0.5345 - val_accuracy: 0.9510\n",
            "Epoch 17/30\n",
            "469/469 [==============================] - 2s 4ms/step - loss: 0.5122 - accuracy: 0.9561 - val_loss: 0.4869 - val_accuracy: 0.9653\n",
            "Epoch 18/30\n",
            "469/469 [==============================] - 2s 3ms/step - loss: 0.5085 - accuracy: 0.9559 - val_loss: 0.4682 - val_accuracy: 0.9692\n",
            "Epoch 19/30\n",
            "469/469 [==============================] - 2s 4ms/step - loss: 0.5038 - accuracy: 0.9569 - val_loss: 0.4754 - val_accuracy: 0.9671\n",
            "Epoch 20/30\n",
            "469/469 [==============================] - 2s 4ms/step - loss: 0.4984 - accuracy: 0.9577 - val_loss: 0.5256 - val_accuracy: 0.9483\n",
            "Epoch 21/30\n",
            "469/469 [==============================] - 2s 4ms/step - loss: 0.4967 - accuracy: 0.9576 - val_loss: 0.4880 - val_accuracy: 0.9604\n",
            "Epoch 22/30\n",
            "469/469 [==============================] - 2s 4ms/step - loss: 0.4931 - accuracy: 0.9584 - val_loss: 0.4830 - val_accuracy: 0.9607\n",
            "Epoch 23/30\n",
            "469/469 [==============================] - 2s 3ms/step - loss: 0.4897 - accuracy: 0.9588 - val_loss: 0.4783 - val_accuracy: 0.9658\n",
            "Epoch 24/30\n",
            "469/469 [==============================] - 2s 4ms/step - loss: 0.4880 - accuracy: 0.9590 - val_loss: 0.4821 - val_accuracy: 0.9614\n",
            "Epoch 25/30\n",
            "469/469 [==============================] - 2s 3ms/step - loss: 0.4850 - accuracy: 0.9604 - val_loss: 0.4711 - val_accuracy: 0.9654\n",
            "Epoch 26/30\n",
            "469/469 [==============================] - 2s 3ms/step - loss: 0.4825 - accuracy: 0.9602 - val_loss: 0.4991 - val_accuracy: 0.9576\n",
            "Epoch 27/30\n",
            "469/469 [==============================] - 2s 3ms/step - loss: 0.4811 - accuracy: 0.9596 - val_loss: 0.4698 - val_accuracy: 0.9667\n",
            "Epoch 28/30\n",
            "469/469 [==============================] - 2s 3ms/step - loss: 0.4789 - accuracy: 0.9602 - val_loss: 0.4730 - val_accuracy: 0.9609\n",
            "Epoch 29/30\n",
            "469/469 [==============================] - 2s 4ms/step - loss: 0.4760 - accuracy: 0.9602 - val_loss: 0.4556 - val_accuracy: 0.9691\n",
            "Epoch 30/30\n",
            "469/469 [==============================] - 2s 4ms/step - loss: 0.4753 - accuracy: 0.9604 - val_loss: 0.4514 - val_accuracy: 0.9708\n"
          ]
        }
      ]
    },
    {
      "cell_type": "code",
      "source": [
        "pinta_perdida_entrenamiento_validacion(historia1)"
      ],
      "metadata": {
        "id": "Vyv3yFtiFitw",
        "colab": {
          "base_uri": "https://localhost:8080/",
          "height": 295
        },
        "outputId": "0074f165-b363-4857-a55f-accd91d03113"
      },
      "execution_count": 129,
      "outputs": [
        {
          "output_type": "display_data",
          "data": {
            "text/plain": [
              "<Figure size 432x288 with 1 Axes>"
            ],
            "image/png": "[encoded data removed]"
          },
          "metadata": {
            "needs_background": "light"
          }
        }
      ]
    },
    {
      "cell_type": "code",
      "source": [
        "pinta_precision_entrenamiento_validacion(historia1)"
      ],
      "metadata": {
        "id": "pVUerJsqFo7K",
        "colab": {
          "base_uri": "https://localhost:8080/",
          "height": 295
        },
        "outputId": "0df87aab-59f6-4260-f867-6f268b15a51c"
      },
      "execution_count": 130,
      "outputs": [
        {
          "output_type": "display_data",
          "data": {
            "text/plain": [
              "<Figure size 432x288 with 1 Axes>"
            ],
            "image/png": "[encoded data removed]"
          },
          "metadata": {
            "needs_background": "light"
          }
        }
      ]
    },
    {
      "cell_type": "markdown",
      "source": [
        "### Caso 2: Con regularizador l2"
      ],
      "metadata": {
        "id": "hklwKNlMBzya"
      }
    },
    {
      "cell_type": "code",
      "source": [
        "network2 = crea_modelo(2)"
      ],
      "metadata": {
        "id": "tjIs0FziG5Ja",
        "colab": {
          "base_uri": "https://localhost:8080/"
        },
        "outputId": "c2dbe9a8-e39c-42f1-f67f-9175ccd9d586"
      },
      "execution_count": 131,
      "outputs": [
        {
          "output_type": "stream",
          "name": "stdout",
          "text": [
            "Model: \"sequential_17\"\n",
            "_________________________________________________________________\n",
            " Layer (type)                Output Shape              Param #   \n",
            "=================================================================\n",
            " dense_16 (Dense)            (None, 512)               401920    \n",
            "                                                                 \n",
            " dense_17 (Dense)            (None, 10)                5130      \n",
            "                                                                 \n",
            "=================================================================\n",
            "Total params: 407,050\n",
            "Trainable params: 407,050\n",
            "Non-trainable params: 0\n",
            "_________________________________________________________________\n"
          ]
        }
      ]
    },
    {
      "cell_type": "code",
      "source": [
        "network2 = compila_modelo(network2)"
      ],
      "metadata": {
        "id": "UCdA0K_qyTUq"
      },
      "execution_count": 132,
      "outputs": []
    },
    {
      "cell_type": "code",
      "source": [
        "historia2 = entrena_modelo(network2)"
      ],
      "metadata": {
        "id": "WSuomx5oybpu",
        "colab": {
          "base_uri": "https://localhost:8080/"
        },
        "outputId": "57d7e15c-d9ab-42e6-8b79-510f67bf2631"
      },
      "execution_count": 133,
      "outputs": [
        {
          "output_type": "stream",
          "name": "stdout",
          "text": [
            "Epoch 1/30\n",
            "469/469 [==============================] - 2s 4ms/step - loss: 0.4903 - accuracy: 0.9176 - val_loss: 0.3199 - val_accuracy: 0.9398\n",
            "Epoch 2/30\n",
            "469/469 [==============================] - 2s 4ms/step - loss: 0.2435 - accuracy: 0.9575 - val_loss: 0.1922 - val_accuracy: 0.9678\n",
            "Epoch 3/30\n",
            "469/469 [==============================] - 2s 3ms/step - loss: 0.1983 - accuracy: 0.9647 - val_loss: 0.1814 - val_accuracy: 0.9692\n",
            "Epoch 4/30\n",
            "469/469 [==============================] - 2s 3ms/step - loss: 0.1786 - accuracy: 0.9678 - val_loss: 0.1386 - val_accuracy: 0.9816\n",
            "Epoch 5/30\n",
            "469/469 [==============================] - 2s 4ms/step - loss: 0.1652 - accuracy: 0.9705 - val_loss: 0.1447 - val_accuracy: 0.9775\n",
            "Epoch 6/30\n",
            "469/469 [==============================] - 2s 4ms/step - loss: 0.1592 - accuracy: 0.9714 - val_loss: 0.1291 - val_accuracy: 0.9831\n",
            "Epoch 7/30\n",
            "469/469 [==============================] - 2s 4ms/step - loss: 0.1525 - accuracy: 0.9731 - val_loss: 0.1273 - val_accuracy: 0.9815\n",
            "Epoch 8/30\n",
            "469/469 [==============================] - 2s 4ms/step - loss: 0.1472 - accuracy: 0.9743 - val_loss: 0.1258 - val_accuracy: 0.9798\n",
            "Epoch 9/30\n",
            "469/469 [==============================] - 2s 4ms/step - loss: 0.1439 - accuracy: 0.9738 - val_loss: 0.1684 - val_accuracy: 0.9660\n",
            "Epoch 10/30\n",
            "469/469 [==============================] - 2s 3ms/step - loss: 0.1398 - accuracy: 0.9758 - val_loss: 0.1224 - val_accuracy: 0.9817\n",
            "Epoch 11/30\n",
            "469/469 [==============================] - 2s 4ms/step - loss: 0.1367 - accuracy: 0.9761 - val_loss: 0.1208 - val_accuracy: 0.9814\n",
            "Epoch 12/30\n",
            "469/469 [==============================] - 2s 4ms/step - loss: 0.1330 - accuracy: 0.9771 - val_loss: 0.1261 - val_accuracy: 0.9786\n",
            "Epoch 13/30\n",
            "469/469 [==============================] - 2s 4ms/step - loss: 0.1301 - accuracy: 0.9777 - val_loss: 0.1360 - val_accuracy: 0.9754\n",
            "Epoch 14/30\n",
            "469/469 [==============================] - 2s 4ms/step - loss: 0.1289 - accuracy: 0.9780 - val_loss: 0.1382 - val_accuracy: 0.9749\n",
            "Epoch 15/30\n",
            "469/469 [==============================] - 2s 4ms/step - loss: 0.1263 - accuracy: 0.9784 - val_loss: 0.1079 - val_accuracy: 0.9840\n",
            "Epoch 16/30\n",
            "469/469 [==============================] - 2s 4ms/step - loss: 0.1239 - accuracy: 0.9777 - val_loss: 0.1200 - val_accuracy: 0.9778\n",
            "Epoch 17/30\n",
            "469/469 [==============================] - 2s 3ms/step - loss: 0.1223 - accuracy: 0.9790 - val_loss: 0.1028 - val_accuracy: 0.9852\n",
            "Epoch 18/30\n",
            "469/469 [==============================] - 2s 4ms/step - loss: 0.1203 - accuracy: 0.9794 - val_loss: 0.1104 - val_accuracy: 0.9814\n",
            "Epoch 19/30\n",
            "469/469 [==============================] - 2s 3ms/step - loss: 0.1184 - accuracy: 0.9789 - val_loss: 0.1165 - val_accuracy: 0.9806\n",
            "Epoch 20/30\n",
            "469/469 [==============================] - 2s 4ms/step - loss: 0.1170 - accuracy: 0.9802 - val_loss: 0.1128 - val_accuracy: 0.9809\n",
            "Epoch 21/30\n",
            "469/469 [==============================] - 2s 4ms/step - loss: 0.1157 - accuracy: 0.9806 - val_loss: 0.0922 - val_accuracy: 0.9888\n",
            "Epoch 22/30\n",
            "469/469 [==============================] - 2s 4ms/step - loss: 0.1151 - accuracy: 0.9804 - val_loss: 0.0961 - val_accuracy: 0.9870\n",
            "Epoch 23/30\n",
            "469/469 [==============================] - 2s 3ms/step - loss: 0.1127 - accuracy: 0.9805 - val_loss: 0.0962 - val_accuracy: 0.9860\n",
            "Epoch 24/30\n",
            "469/469 [==============================] - 2s 4ms/step - loss: 0.1118 - accuracy: 0.9816 - val_loss: 0.1050 - val_accuracy: 0.9822\n",
            "Epoch 25/30\n",
            "469/469 [==============================] - 2s 3ms/step - loss: 0.1111 - accuracy: 0.9804 - val_loss: 0.1123 - val_accuracy: 0.9788\n",
            "Epoch 26/30\n",
            "469/469 [==============================] - 2s 4ms/step - loss: 0.1089 - accuracy: 0.9813 - val_loss: 0.0922 - val_accuracy: 0.9870\n",
            "Epoch 27/30\n",
            "469/469 [==============================] - 2s 4ms/step - loss: 0.1088 - accuracy: 0.9818 - val_loss: 0.0924 - val_accuracy: 0.9877\n",
            "Epoch 28/30\n",
            "469/469 [==============================] - 2s 4ms/step - loss: 0.1074 - accuracy: 0.9816 - val_loss: 0.0827 - val_accuracy: 0.9907\n",
            "Epoch 29/30\n",
            "469/469 [==============================] - 2s 3ms/step - loss: 0.1061 - accuracy: 0.9818 - val_loss: 0.0988 - val_accuracy: 0.9853\n",
            "Epoch 30/30\n",
            "469/469 [==============================] - 2s 4ms/step - loss: 0.1047 - accuracy: 0.9822 - val_loss: 0.0883 - val_accuracy: 0.9879\n"
          ]
        }
      ]
    },
    {
      "cell_type": "code",
      "source": [
        "pinta_perdida_entrenamiento_validacion(historia2)"
      ],
      "metadata": {
        "id": "aXXzm8tpyj6X",
        "colab": {
          "base_uri": "https://localhost:8080/",
          "height": 295
        },
        "outputId": "9bc4ea00-df03-48e9-938f-fd54de9655cc"
      },
      "execution_count": 134,
      "outputs": [
        {
          "output_type": "display_data",
          "data": {
            "text/plain": [
              "<Figure size 432x288 with 1 Axes>"
            ],
            "image/png": "[encoded data removed]"
          },
          "metadata": {
            "needs_background": "light"
          }
        }
      ]
    },
    {
      "cell_type": "code",
      "source": [
        "pinta_precision_entrenamiento_validacion(historia2)"
      ],
      "metadata": {
        "id": "CLTsg5LTypH9",
        "colab": {
          "base_uri": "https://localhost:8080/",
          "height": 295
        },
        "outputId": "b697d82a-b6a2-4616-959e-5988eedda38e"
      },
      "execution_count": 135,
      "outputs": [
        {
          "output_type": "display_data",
          "data": {
            "text/plain": [
              "<Figure size 432x288 with 1 Axes>"
            ],
            "image/png": "[encoded data removed]"
          },
          "metadata": {
            "needs_background": "light"
          }
        }
      ]
    },
    {
      "cell_type": "markdown",
      "source": [
        "### Caso 3: Con regularizador l1_l2"
      ],
      "metadata": {
        "id": "692oWz8oB82n"
      }
    },
    {
      "cell_type": "code",
      "source": [
        "network3 = crea_modelo(3)"
      ],
      "metadata": {
        "id": "5fdxkjoKzFcu",
        "colab": {
          "base_uri": "https://localhost:8080/"
        },
        "outputId": "cbd42358-b499-43e3-90f9-3aa3138463aa"
      },
      "execution_count": 136,
      "outputs": [
        {
          "output_type": "stream",
          "name": "stdout",
          "text": [
            "Model: \"sequential_18\"\n",
            "_________________________________________________________________\n",
            " Layer (type)                Output Shape              Param #   \n",
            "=================================================================\n",
            " dense_18 (Dense)            (None, 512)               401920    \n",
            "                                                                 \n",
            " dense_19 (Dense)            (None, 10)                5130      \n",
            "                                                                 \n",
            "=================================================================\n",
            "Total params: 407,050\n",
            "Trainable params: 407,050\n",
            "Non-trainable params: 0\n",
            "_________________________________________________________________\n"
          ]
        }
      ]
    },
    {
      "cell_type": "code",
      "source": [
        "network3 = compila_modelo(network3)"
      ],
      "metadata": {
        "id": "VJzs9A2yzPhx"
      },
      "execution_count": 137,
      "outputs": []
    },
    {
      "cell_type": "code",
      "source": [
        "historia3 = entrena_modelo(network3)"
      ],
      "metadata": {
        "id": "1JCUbcCQzY6E",
        "colab": {
          "base_uri": "https://localhost:8080/"
        },
        "outputId": "9f5d43f3-c8f3-4478-8083-8964f9844f17"
      },
      "execution_count": 138,
      "outputs": [
        {
          "output_type": "stream",
          "name": "stdout",
          "text": [
            "Epoch 1/30\n",
            "469/469 [==============================] - 2s 4ms/step - loss: 1.9803 - accuracy: 0.8473 - val_loss: 0.9509 - val_accuracy: 0.8941\n",
            "Epoch 2/30\n",
            "469/469 [==============================] - 2s 3ms/step - loss: 0.9301 - accuracy: 0.8857 - val_loss: 0.9148 - val_accuracy: 0.8844\n",
            "Epoch 3/30\n",
            "469/469 [==============================] - 2s 4ms/step - loss: 0.8158 - accuracy: 0.9067 - val_loss: 0.8169 - val_accuracy: 0.9055\n",
            "Epoch 4/30\n",
            "469/469 [==============================] - 2s 4ms/step - loss: 0.7442 - accuracy: 0.9195 - val_loss: 0.6800 - val_accuracy: 0.9393\n",
            "Epoch 5/30\n",
            "469/469 [==============================] - 2s 4ms/step - loss: 0.6984 - accuracy: 0.9269 - val_loss: 0.6677 - val_accuracy: 0.9375\n",
            "Epoch 6/30\n",
            "469/469 [==============================] - 2s 4ms/step - loss: 0.6614 - accuracy: 0.9325 - val_loss: 0.6104 - val_accuracy: 0.9477\n",
            "Epoch 7/30\n",
            "469/469 [==============================] - 2s 3ms/step - loss: 0.6351 - accuracy: 0.9375 - val_loss: 0.6356 - val_accuracy: 0.9350\n",
            "Epoch 8/30\n",
            "469/469 [==============================] - 2s 4ms/step - loss: 0.6149 - accuracy: 0.9412 - val_loss: 0.5862 - val_accuracy: 0.9488\n",
            "Epoch 9/30\n",
            "469/469 [==============================] - 2s 4ms/step - loss: 0.5969 - accuracy: 0.9439 - val_loss: 0.5601 - val_accuracy: 0.9527\n",
            "Epoch 10/30\n",
            "469/469 [==============================] - 2s 4ms/step - loss: 0.5817 - accuracy: 0.9476 - val_loss: 0.5631 - val_accuracy: 0.9527\n",
            "Epoch 11/30\n",
            "469/469 [==============================] - 2s 3ms/step - loss: 0.5697 - accuracy: 0.9483 - val_loss: 0.5568 - val_accuracy: 0.9524\n",
            "Epoch 12/30\n",
            "469/469 [==============================] - 2s 3ms/step - loss: 0.5586 - accuracy: 0.9500 - val_loss: 0.5426 - val_accuracy: 0.9524\n",
            "Epoch 13/30\n",
            "469/469 [==============================] - 2s 3ms/step - loss: 0.5503 - accuracy: 0.9513 - val_loss: 0.5140 - val_accuracy: 0.9631\n",
            "Epoch 14/30\n",
            "469/469 [==============================] - 2s 4ms/step - loss: 0.5430 - accuracy: 0.9520 - val_loss: 0.5445 - val_accuracy: 0.9518\n",
            "Epoch 15/30\n",
            "469/469 [==============================] - 2s 4ms/step - loss: 0.5354 - accuracy: 0.9535 - val_loss: 0.5400 - val_accuracy: 0.9510\n",
            "Epoch 16/30\n",
            "469/469 [==============================] - 2s 4ms/step - loss: 0.5300 - accuracy: 0.9539 - val_loss: 0.5001 - val_accuracy: 0.9630\n",
            "Epoch 17/30\n",
            "469/469 [==============================] - 2s 4ms/step - loss: 0.5232 - accuracy: 0.9552 - val_loss: 0.4949 - val_accuracy: 0.9631\n",
            "Epoch 18/30\n",
            "469/469 [==============================] - 2s 4ms/step - loss: 0.5168 - accuracy: 0.9557 - val_loss: 0.4943 - val_accuracy: 0.9605\n",
            "Epoch 19/30\n",
            "469/469 [==============================] - 2s 4ms/step - loss: 0.5138 - accuracy: 0.9562 - val_loss: 0.4744 - val_accuracy: 0.9690\n",
            "Epoch 20/30\n",
            "469/469 [==============================] - 2s 3ms/step - loss: 0.5074 - accuracy: 0.9568 - val_loss: 0.4856 - val_accuracy: 0.9644\n",
            "Epoch 21/30\n",
            "469/469 [==============================] - 2s 4ms/step - loss: 0.5041 - accuracy: 0.9584 - val_loss: 0.4651 - val_accuracy: 0.9702\n",
            "Epoch 22/30\n",
            "469/469 [==============================] - 2s 4ms/step - loss: 0.5003 - accuracy: 0.9578 - val_loss: 0.4859 - val_accuracy: 0.9625\n",
            "Epoch 23/30\n",
            "469/469 [==============================] - 2s 4ms/step - loss: 0.4982 - accuracy: 0.9584 - val_loss: 0.5070 - val_accuracy: 0.9569\n",
            "Epoch 24/30\n",
            "469/469 [==============================] - 2s 4ms/step - loss: 0.4968 - accuracy: 0.9578 - val_loss: 0.4807 - val_accuracy: 0.9656\n",
            "Epoch 25/30\n",
            "469/469 [==============================] - 2s 4ms/step - loss: 0.4922 - accuracy: 0.9585 - val_loss: 0.4818 - val_accuracy: 0.9634\n",
            "Epoch 26/30\n",
            "469/469 [==============================] - 2s 3ms/step - loss: 0.4900 - accuracy: 0.9587 - val_loss: 0.4815 - val_accuracy: 0.9619\n",
            "Epoch 27/30\n",
            "469/469 [==============================] - 2s 4ms/step - loss: 0.4853 - accuracy: 0.9596 - val_loss: 0.4863 - val_accuracy: 0.9616\n",
            "Epoch 28/30\n",
            "469/469 [==============================] - 2s 3ms/step - loss: 0.4837 - accuracy: 0.9602 - val_loss: 0.4712 - val_accuracy: 0.9633\n",
            "Epoch 29/30\n",
            "469/469 [==============================] - 2s 3ms/step - loss: 0.4814 - accuracy: 0.9601 - val_loss: 0.4757 - val_accuracy: 0.9639\n",
            "Epoch 30/30\n",
            "469/469 [==============================] - 2s 4ms/step - loss: 0.4789 - accuracy: 0.9606 - val_loss: 0.4739 - val_accuracy: 0.9590\n"
          ]
        }
      ]
    },
    {
      "cell_type": "code",
      "source": [
        "pinta_perdida_entrenamiento_validacion(historia3)"
      ],
      "metadata": {
        "id": "I8XzPVtyze8y",
        "colab": {
          "base_uri": "https://localhost:8080/",
          "height": 295
        },
        "outputId": "96c49f73-b821-4cde-9f75-49cfba717d74"
      },
      "execution_count": 139,
      "outputs": [
        {
          "output_type": "display_data",
          "data": {
            "text/plain": [
              "<Figure size 432x288 with 1 Axes>"
            ],
            "image/png": "[encoded data removed]"
          },
          "metadata": {
            "needs_background": "light"
          }
        }
      ]
    },
    {
      "cell_type": "code",
      "source": [
        "pinta_precision_entrenamiento_validacion(historia3)"
      ],
      "metadata": {
        "id": "nKk7AmM8zi3A",
        "colab": {
          "base_uri": "https://localhost:8080/",
          "height": 295
        },
        "outputId": "fcbe1293-2634-4a6b-e1c8-bb13692c4534"
      },
      "execution_count": 140,
      "outputs": [
        {
          "output_type": "display_data",
          "data": {
            "text/plain": [
              "<Figure size 432x288 with 1 Axes>"
            ],
            "image/png": "[encoded data removed]"
          },
          "metadata": {
            "needs_background": "light"
          }
        }
      ]
    },
    {
      "cell_type": "markdown",
      "source": [
        "### Caso 4: Con Droput"
      ],
      "metadata": {
        "id": "OPVcbgcXCFRL"
      }
    },
    {
      "cell_type": "code",
      "source": [
        "network4 = crea_modelo(4)"
      ],
      "metadata": {
        "id": "5MVbUNX11Pgr",
        "colab": {
          "base_uri": "https://localhost:8080/"
        },
        "outputId": "94bfa5b9-e48f-4a31-d193-77cda1e1881b"
      },
      "execution_count": 141,
      "outputs": [
        {
          "output_type": "stream",
          "name": "stdout",
          "text": [
            "Model: \"sequential_19\"\n",
            "_________________________________________________________________\n",
            " Layer (type)                Output Shape              Param #   \n",
            "=================================================================\n",
            " dense_20 (Dense)            (None, 512)               401920    \n",
            "                                                                 \n",
            " dropout_2 (Dropout)         (None, 512)               0         \n",
            "                                                                 \n",
            " dense_21 (Dense)            (None, 10)                5130      \n",
            "                                                                 \n",
            "=================================================================\n",
            "Total params: 407,050\n",
            "Trainable params: 407,050\n",
            "Non-trainable params: 0\n",
            "_________________________________________________________________\n"
          ]
        }
      ]
    },
    {
      "cell_type": "code",
      "source": [
        "network4 = compila_modelo(network4)"
      ],
      "metadata": {
        "id": "pT-13IKI1UpW"
      },
      "execution_count": 142,
      "outputs": []
    },
    {
      "cell_type": "code",
      "source": [
        "historia4 = entrena_modelo(network4)"
      ],
      "metadata": {
        "id": "kNWidx1S1aCH",
        "colab": {
          "base_uri": "https://localhost:8080/"
        },
        "outputId": "bfe29db8-19f0-4837-b4fa-1992dd1d6bef"
      },
      "execution_count": 143,
      "outputs": [
        {
          "output_type": "stream",
          "name": "stdout",
          "text": [
            "Epoch 1/30\n",
            "469/469 [==============================] - 2s 4ms/step - loss: 0.3145 - accuracy: 0.9076 - val_loss: 0.1284 - val_accuracy: 0.9644\n",
            "Epoch 2/30\n",
            "469/469 [==============================] - 2s 4ms/step - loss: 0.1535 - accuracy: 0.9546 - val_loss: 0.0860 - val_accuracy: 0.9754\n",
            "Epoch 3/30\n",
            "469/469 [==============================] - 2s 3ms/step - loss: 0.1181 - accuracy: 0.9649 - val_loss: 0.0631 - val_accuracy: 0.9829\n",
            "Epoch 4/30\n",
            "469/469 [==============================] - 2s 4ms/step - loss: 0.1007 - accuracy: 0.9697 - val_loss: 0.0515 - val_accuracy: 0.9842\n",
            "Epoch 5/30\n",
            "469/469 [==============================] - 2s 5ms/step - loss: 0.0862 - accuracy: 0.9741 - val_loss: 0.0428 - val_accuracy: 0.9880\n",
            "Epoch 6/30\n",
            "469/469 [==============================] - 2s 4ms/step - loss: 0.0779 - accuracy: 0.9767 - val_loss: 0.0390 - val_accuracy: 0.9881\n",
            "Epoch 7/30\n",
            "469/469 [==============================] - 1s 3ms/step - loss: 0.0714 - accuracy: 0.9792 - val_loss: 0.0352 - val_accuracy: 0.9899\n",
            "Epoch 8/30\n",
            "469/469 [==============================] - 2s 3ms/step - loss: 0.0643 - accuracy: 0.9804 - val_loss: 0.0306 - val_accuracy: 0.9913\n",
            "Epoch 9/30\n",
            "469/469 [==============================] - 2s 4ms/step - loss: 0.0621 - accuracy: 0.9821 - val_loss: 0.0262 - val_accuracy: 0.9920\n",
            "Epoch 10/30\n",
            "469/469 [==============================] - 2s 4ms/step - loss: 0.0571 - accuracy: 0.9832 - val_loss: 0.0237 - val_accuracy: 0.9940\n",
            "Epoch 11/30\n",
            "469/469 [==============================] - 2s 4ms/step - loss: 0.0557 - accuracy: 0.9836 - val_loss: 0.0227 - val_accuracy: 0.9939\n",
            "Epoch 12/30\n",
            "469/469 [==============================] - 2s 4ms/step - loss: 0.0520 - accuracy: 0.9847 - val_loss: 0.0195 - val_accuracy: 0.9948\n",
            "Epoch 13/30\n",
            "469/469 [==============================] - 2s 4ms/step - loss: 0.0498 - accuracy: 0.9861 - val_loss: 0.0180 - val_accuracy: 0.9959\n",
            "Epoch 14/30\n",
            "469/469 [==============================] - 2s 4ms/step - loss: 0.0468 - accuracy: 0.9856 - val_loss: 0.0182 - val_accuracy: 0.9953\n",
            "Epoch 15/30\n",
            "469/469 [==============================] - 2s 4ms/step - loss: 0.0441 - accuracy: 0.9866 - val_loss: 0.0143 - val_accuracy: 0.9966\n",
            "Epoch 16/30\n",
            "469/469 [==============================] - 2s 4ms/step - loss: 0.0437 - accuracy: 0.9870 - val_loss: 0.0136 - val_accuracy: 0.9969\n",
            "Epoch 17/30\n",
            "469/469 [==============================] - 2s 3ms/step - loss: 0.0426 - accuracy: 0.9876 - val_loss: 0.0130 - val_accuracy: 0.9968\n",
            "Epoch 18/30\n",
            "469/469 [==============================] - 2s 3ms/step - loss: 0.0385 - accuracy: 0.9880 - val_loss: 0.0101 - val_accuracy: 0.9974\n",
            "Epoch 19/30\n",
            "469/469 [==============================] - 2s 4ms/step - loss: 0.0389 - accuracy: 0.9889 - val_loss: 0.0116 - val_accuracy: 0.9972\n",
            "Epoch 20/30\n",
            "469/469 [==============================] - 2s 3ms/step - loss: 0.0369 - accuracy: 0.9890 - val_loss: 0.0101 - val_accuracy: 0.9972\n",
            "Epoch 21/30\n",
            "469/469 [==============================] - 2s 4ms/step - loss: 0.0340 - accuracy: 0.9901 - val_loss: 0.0105 - val_accuracy: 0.9970\n",
            "Epoch 22/30\n",
            "469/469 [==============================] - 2s 4ms/step - loss: 0.0356 - accuracy: 0.9898 - val_loss: 0.0087 - val_accuracy: 0.9980\n",
            "Epoch 23/30\n",
            "469/469 [==============================] - 2s 4ms/step - loss: 0.0343 - accuracy: 0.9901 - val_loss: 0.0078 - val_accuracy: 0.9978\n",
            "Epoch 24/30\n",
            "469/469 [==============================] - 2s 4ms/step - loss: 0.0334 - accuracy: 0.9900 - val_loss: 0.0082 - val_accuracy: 0.9977\n",
            "Epoch 25/30\n",
            "469/469 [==============================] - 2s 4ms/step - loss: 0.0315 - accuracy: 0.9905 - val_loss: 0.0096 - val_accuracy: 0.9977\n",
            "Epoch 26/30\n",
            "469/469 [==============================] - 2s 4ms/step - loss: 0.0312 - accuracy: 0.9913 - val_loss: 0.0080 - val_accuracy: 0.9976\n",
            "Epoch 27/30\n",
            "469/469 [==============================] - 2s 3ms/step - loss: 0.0290 - accuracy: 0.9916 - val_loss: 0.0074 - val_accuracy: 0.9985\n",
            "Epoch 28/30\n",
            "469/469 [==============================] - 2s 4ms/step - loss: 0.0291 - accuracy: 0.9917 - val_loss: 0.0064 - val_accuracy: 0.9984\n",
            "Epoch 29/30\n",
            "469/469 [==============================] - 2s 4ms/step - loss: 0.0275 - accuracy: 0.9920 - val_loss: 0.0064 - val_accuracy: 0.9985\n",
            "Epoch 30/30\n",
            "469/469 [==============================] - 2s 4ms/step - loss: 0.0264 - accuracy: 0.9921 - val_loss: 0.0062 - val_accuracy: 0.9984\n"
          ]
        }
      ]
    },
    {
      "cell_type": "code",
      "source": [
        "pinta_perdida_entrenamiento_validacion(historia4)"
      ],
      "metadata": {
        "id": "R9pI34Yr1gBO",
        "colab": {
          "base_uri": "https://localhost:8080/",
          "height": 295
        },
        "outputId": "d1a084b0-a408-41f2-bf37-7a0e39fbf582"
      },
      "execution_count": 144,
      "outputs": [
        {
          "output_type": "display_data",
          "data": {
            "text/plain": [
              "<Figure size 432x288 with 1 Axes>"
            ],
            "image/png": "[encoded data removed]"
          },
          "metadata": {
            "needs_background": "light"
          }
        }
      ]
    },
    {
      "cell_type": "code",
      "source": [
        "pinta_precision_entrenamiento_validacion(historia4)"
      ],
      "metadata": {
        "id": "EwEIEOKx1lQr",
        "colab": {
          "base_uri": "https://localhost:8080/",
          "height": 295
        },
        "outputId": "398d005a-6a86-4020-b91f-fa8acf15d3ff"
      },
      "execution_count": 145,
      "outputs": [
        {
          "output_type": "display_data",
          "data": {
            "text/plain": [
              "<Figure size 432x288 with 1 Axes>"
            ],
            "image/png": "[encoded data removed]"
          },
          "metadata": {
            "needs_background": "light"
          }
        }
      ]
    },
    {
      "cell_type": "markdown",
      "source": [
        "### Caso 5: Error de código de regularizador"
      ],
      "metadata": {
        "id": "e6rlKx2nCOgU"
      }
    },
    {
      "cell_type": "code",
      "source": [
        "network5 = crea_modelo(5)"
      ],
      "metadata": {
        "id": "SqGDm8VM1rwR",
        "outputId": "3d8941ae-b480-4125-f9eb-bea643a89173",
        "colab": {
          "base_uri": "https://localhost:8080/"
        }
      },
      "execution_count": 146,
      "outputs": [
        {
          "output_type": "stream",
          "name": "stdout",
          "text": [
            "\n",
            "El valor introducido no es correcto\n",
            "\n"
          ]
        }
      ]
    },
    {
      "cell_type": "markdown",
      "source": [
        "### CONCLUSIONES"
      ],
      "metadata": {
        "id": "IklUu29cCcVe"
      }
    },
    {
      "cell_type": "markdown",
      "source": [
        "Nuestro fin es ser capaces de dar respuesta a la siguiente pregunta: ¿qué regularizador funciona mejor para este caso? Con este objetivo en mente, se recopilarán las mayores precisiones alcanzadas por cada modelo - tanto de los datos de entrenamiento, como los de validación - en el siguiente esquema:"
      ],
      "metadata": {
        "id": "cB_OYjjaChzN"
      }
    },
    {
      "cell_type": "markdown",
      "source": [
        "Sin regularizador:\n",
        "- Precisión datos de entrenamiento: 0.9999\n",
        "- Precisión datos de validación: 1.0000\n",
        "\n",
        "Regularizador l1:\n",
        "- Precisión datos de entrenamiento: 0.9604\n",
        "- Precisión datos de validación: 0.9708\n",
        "\n",
        "Regularizador l2:\n",
        "- Precisión datos de entrenamiento: 0.9822\n",
        "- Precisión datos de validación: 0.9907\n",
        "\n",
        "Regularizador l1_l2:\n",
        "- Precisión datos de entrenamiento: 0.9606\n",
        "- Precisión datos de validación: 0.9702\n",
        "\n",
        "Dropout:\n",
        "- Precisión datos de entrenamiento: 0.9921\n",
        "- Precisión datos de validación: 0.9985"
      ],
      "metadata": {
        "id": "GATeY9Pvmpu_"
      }
    },
    {
      "cell_type": "markdown",
      "source": [
        "Llama la atención que todos los modelos provocan una mayor precisión con los datos de validación que aquellos de entrenamiento. Esto es llamativo debido a que significa que los modelos funcionan mejor con datos que nunca han visto, que aquellos con los que está trabajando.\n",
        "\n",
        "Cabe destacar el importante papel de los diversos regularizadores para 'aareglar' el sobre-entrenemiento.\n",
        "\n",
        "Para buscar el modelo más óptimo de nuestro problema buscaremos aquel caso en que contenga la mejor precisión de datos de validación de todas. Sin embargo, debemos tener en cuenta que esta no sería la solución más óptima, ya que existe la característica de la aleatoriedad de los pesos: esto nos provocará valores ligeramente distintos en futuras ejecuciones del código, y puede que sea suficiente como para cambiar de modelo concluido.\n",
        "\n",
        "Por tanto, el mejor modelo será el 'Caso 0'. Entre aquellos que contienen regularizadores, el mejor modelo correspondería al 'Caso 2'; aunque éste último tiene una menor precisión que el del último caso, en el que aplicamos 'Dropout'."
      ],
      "metadata": {
        "id": "kd917hi_rrSZ"
      }
    }
  ]
}