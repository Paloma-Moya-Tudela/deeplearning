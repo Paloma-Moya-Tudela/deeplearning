{
  "nbformat": 4,
  "nbformat_minor": 0,
  "metadata": {
    "colab": {
      "provenance": []
    },
    "kernelspec": {
      "name": "python3",
      "display_name": "Python 3"
    },
    "language_info": {
      "name": "python"
    }
  },
  "cells": [
    {
      "cell_type": "code",
      "execution_count": null,
      "metadata": {
        "id": "XpNGzfU8ACaQ"
      },
      "outputs": [],
      "source": [
        "%tensorflow_version 2.x\n",
        "import tensorflow as tf\n",
        "from tensorflow import keras\n",
        "\n",
        "import numpy as np\n",
        "import matplotlib.pyplot as plt\n",
        "\n",
        "print(tf.__version__)#\n",
        "\n",
        "from tensorflow.keras.models import Sequential\n",
        "from tensorflow.keras.layers import Dense, Flatten, Conv2D, MaxPooling2D\n",
        "from tensorflow.keras.losses import sparse_categorical_crossentropy\n",
        "from tensorflow.keras.optimizers import Adam\n",
        "import matplotlib.pyplot as plt"
      ]
    },
    {
      "cell_type": "code",
      "source": [
        "# Configuración del modelo\n",
        "batch_size = 50\n",
        "img_width, img_height, img_num_channels = 32, 32, 3 # Forma de la imagen\n",
        "loss_function = sparse_categorical_crossentropy\n",
        "no_classes = 100\n",
        "no_epochs = 100\n",
        "optimizer = Adam()\n",
        "validation_split = 0.2\n",
        "verbosity = 1\n",
        "input_shape = (img_width, img_height, img_num_channels)"
      ],
      "metadata": {
        "id": "cvrXA-JaAF8h"
      },
      "execution_count": null,
      "outputs": []
    },
    {
      "cell_type": "code",
      "source": [
        "(train_images, train_labels), (test_images, test_labels) = tf.keras.datasets.cifar100.load_data(label_mode=\"fine\")\n",
        "# CIFAR: https://www.cs.toronto.edu/~kriz/cifar.html\n",
        "assert train_images.shape == (50000, 32, 32, 3) # Forma tensor juego imágenes de entrenamiento\n",
        "assert test_images.shape == (10000,32,32,3) # Forma tensor juego imágenes de test\n",
        "assert train_labels.shape == (50000,1) # Forma tensor etiquetas de entrenamiento\n",
        "assert test_labels.shape == (10000,1) # Forma tensor etiquetas de test"
      ],
      "metadata": {
        "id": "RYgWQWuZAPaH"
      },
      "execution_count": null,
      "outputs": []
    },
    {
      "cell_type": "code",
      "source": [
        "# Pintamos la tercera imagen de entrenamiento (la número 2 en el array)\n",
        "image = train_images[2]\n",
        "plt.imshow(image, cmap=plt.cm.binary)\n",
        "plt.show()"
      ],
      "metadata": {
        "id": "YOIWl3BhAvoH"
      },
      "execution_count": null,
      "outputs": []
    },
    {
      "cell_type": "code",
      "source": [
        "print(train_images[2].shape)\n",
        "print(train_images[2])"
      ],
      "metadata": {
        "id": "CYxj_8S2AwiK"
      },
      "execution_count": null,
      "outputs": []
    },
    {
      "cell_type": "code",
      "source": [
        "# Normalizar imágenes de entrenamiento y de test\n",
        "train_images = train_images.astype('float32') / 255\n",
        "test_images = test_images.astype('float32') / 255"
      ],
      "metadata": {
        "id": "K0teESsKA8N7"
      },
      "execution_count": null,
      "outputs": []
    },
    {
      "cell_type": "code",
      "source": [
        "print (train_images.shape)\n",
        "print (train_labels.shape)"
      ],
      "metadata": {
        "id": "jHxaQNAdBDTQ"
      },
      "execution_count": null,
      "outputs": []
    },
    {
      "cell_type": "code",
      "source": [
        "# Crear el Modelo de red neuronal CNN con:\n",
        "# stride = 1\n",
        "# ventanas convolucionales de 3x3\n",
        "# ventanas de pooling de 2x2\n",
        "# funciones de activación 'relu'\n",
        "# 3 capas convolucionales con 32, 64 y 28 filtros respectivamente\n",
        "# Aplanamos la última salida y añadimos dos capas densas con función activación \n",
        "# 'relu' de 256 y 128 neuronas cada una.\n",
        "# Tenemos en cuenta el número de clases a clasificar para poner la capa final\n",
        "from tensorflow.keras import Sequential\n",
        "from tensorflow.keras.layers import Conv2D\n",
        "from tensorflow.keras.layers import MaxPooling2D\n",
        "\n",
        "model = Sequential()\n",
        "model.add(Conv2D(32, (3, 3), strides=(1,1),  activation='relu', input_shape=(32, 32, 3)))\n",
        "model.add(MaxPooling2D((2, 2)))\n",
        "\n",
        "model.add(Conv2D(64, (3, 3), strides=(1,1),  activation='relu'))\n",
        "model.add(MaxPooling2D((2, 2)))\n",
        "\n",
        "model.add(Conv2D(28, (3, 3), strides=(1,1),  activation='relu'))\n",
        "model.add(MaxPooling2D((2, 2)))\n",
        "\n",
        "model.add(Flatten())\n",
        "model.add(Dense(256,activation='relu'))\n",
        "model.add(Dense(128,activation='relu'))\n",
        "\n",
        "model.add(Dense(100,activation='softmax')) # Última capa\n",
        "\n",
        "model.summary()"
      ],
      "metadata": {
        "id": "AQhtNiJlBGfx"
      },
      "execution_count": null,
      "outputs": []
    },
    {
      "cell_type": "code",
      "source": [
        "# Compilamos el modelo con métrica preción\n",
        "model.compile(loss=loss_function,\n",
        "              optimizer=optimizer,\n",
        "              metrics=['accuracy'])\n",
        "\n",
        "model.fit(train_images, train_labels,\n",
        "          batch_size=no_classes,\n",
        "          epochs=no_epochs,\n",
        "          verbose=verbosity)\n",
        "\n",
        "test_loss, test_acc = model.evaluate(test_images, test_labels)\n",
        "\n",
        "print('Test accuracy:', test_acc)"
      ],
      "metadata": {
        "id": "t631tbjkCFRr",
        "outputId": "d949222b-3465-4f58-9eca-18eb8985e6f4",
        "colab": {
          "base_uri": "https://localhost:8080/"
        }
      },
      "execution_count": null,
      "outputs": [
        {
          "output_type": "stream",
          "name": "stdout",
          "text": [
            "Epoch 1/100\n",
            "500/500 [==============================] - 70s 137ms/step - loss: 4.5360 - accuracy: 0.0271\n",
            "Epoch 2/100\n",
            "500/500 [==============================] - 71s 141ms/step - loss: 4.0144 - accuracy: 0.0822\n",
            "Epoch 3/100\n",
            "500/500 [==============================] - 71s 143ms/step - loss: 3.6492 - accuracy: 0.1436\n",
            "Epoch 4/100\n",
            "500/500 [==============================] - 71s 141ms/step - loss: 3.3937 - accuracy: 0.1853\n",
            "Epoch 5/100\n",
            "500/500 [==============================] - 80s 160ms/step - loss: 3.2081 - accuracy: 0.2174\n",
            "Epoch 6/100\n",
            "500/500 [==============================] - 85s 171ms/step - loss: 3.0419 - accuracy: 0.2494\n",
            "Epoch 7/100\n",
            "500/500 [==============================] - 73s 147ms/step - loss: 2.9139 - accuracy: 0.2733\n",
            "Epoch 8/100\n",
            "188/500 [==========>...................] - ETA: 51s - loss: 2.7903 - accuracy: 0.2976"
          ]
        }
      ]
    },
    {
      "cell_type": "code",
      "source": [
        "# Ejecutamos el entrenamiento con el validation_split explicitado anteriormente\n"
      ],
      "metadata": {
        "id": "SQMB2DMRCkcw"
      },
      "execution_count": null,
      "outputs": []
    },
    {
      "cell_type": "code",
      "source": [
        "# Generamos las métricas de generalización\n",
        "score = model.evaluate(train_images, train_labels, verbose=0)\n",
        "print(f'Test loss: {score[0]} / Test accuracy: {score[1]}')\n",
        "\n",
        "# Visualizamos history\n",
        "# Pintamos history: Pérdida\n",
        "plt.plot(history.history['val_loss'])\n",
        "plt.title('Validation loss history')\n",
        "plt.ylabel('Loss value')\n",
        "plt.xlabel('No. epoch')\n",
        "plt.show()\n",
        "\n",
        "# Pintamos history: Precisión\n",
        "plt.plot(history.history['val_accuracy'])\n",
        "plt.title('Validation accuracy history')\n",
        "plt.ylabel('Accuracy value (%)')\n",
        "plt.xlabel('No. epoch')\n",
        "plt.show()"
      ],
      "metadata": {
        "id": "Ib6jlUAllODh"
      },
      "execution_count": null,
      "outputs": []
    }
  ]
}